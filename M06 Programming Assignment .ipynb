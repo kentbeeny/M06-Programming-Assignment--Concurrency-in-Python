{
 "cells": [
  {
   "cell_type": "code",
   "execution_count": 6,
   "id": "d847ca18",
   "metadata": {},
   "outputs": [
    {
     "data": {
      "text/plain": [
       "time.struct_time(tm_year=2023, tm_mon=12, tm_mday=3, tm_hour=0, tm_min=0, tm_sec=0, tm_wday=6, tm_yday=337, tm_isdst=-1)"
      ]
     },
     "execution_count": 6,
     "metadata": {},
     "output_type": "execute_result"
    }
   ],
   "source": [
    "#Kent Beeny\n",
    "#SDEV2202\n",
    "#M06 Programming Assignment -Concurrency in Python\n",
    "\n",
    "#13.1 Write the current date as a string to the text file today.txt.\n",
    "#get the current date and assign it to a variable\n",
    "import time\n",
    "from datetime import date\n",
    "now = date.today()\n",
    "\n",
    "#open the file \"today.txt\", using write (w) will create the file if it does not already exist\n",
    "f = open(\"today.txt\", \"w\")\n",
    "\n",
    "#write the current date to the file\n",
    "f.write(str(now))\n",
    "f.close()\n",
    "\n",
    "#13.2 Read the text file today.txt into the string today_string.\n",
    "#open the file to read from it\n",
    "f = open(\"today.txt\", \"r\")\n",
    "\n",
    "#assign the contents of the file to a string named 'today_string'\n",
    "today_string = f.read()\n",
    "###print(today_string)\n",
    "#13.3 Parse the date from today_string.\n",
    "fmt = \"%Y-%m-%d\"\n",
    "time.strptime(today_string, fmt)\n",
    "\n"
   ]
  },
  {
   "cell_type": "code",
   "execution_count": 16,
   "id": "45c2348b",
   "metadata": {},
   "outputs": [
    {
     "name": "stdout",
     "output_type": "stream",
     "text": [
      "2023-12-03 19:40:57.309117\n",
      "2023-12-03 19:40:58.310322\n",
      "2023-12-03 19:40:59.311280\n"
     ]
    }
   ],
   "source": [
    "#15.1 Use multiprocessing to create three separate processes. \n",
    "#Make each one wait a random number of seconds between zero and one, print the current time, and then exit.\n",
    "\n",
    "import multiprocessing\n",
    "import random\n",
    "import time\n",
    "from datetime import datetime\n",
    "\n",
    "#this is the function that will wait a random amount of time between 0 and 1 seconds\n",
    "def waiting():\n",
    "    timeWait = random.randint(0,1)\n",
    "    time.sleep(timeWait)\n",
    "    print(datetime.now())\n",
    "    \n",
    "start=time.time()\n",
    "process1 = waiting()\n",
    "process2 = waiting()\n",
    "process3 = waiting()\n",
    "\n",
    "if __name__==\"__main__\":\n",
    "    p1 = multiprocessing.Process(target=process1)\n",
    "    p2 = multiprocessing.Process(target=process2)\n",
    "    p3 = multiprocessing.Process(target=process3)\n",
    "\n",
    "    p1.start()\n",
    "    p2.start()\n",
    "    p3.start()\n",
    "\n",
    "    p1.join()\n",
    "    p2.join()\n",
    "    p3.join()"
   ]
  },
  {
   "cell_type": "code",
   "execution_count": null,
   "id": "970d7e2b",
   "metadata": {},
   "outputs": [],
   "source": []
  }
 ],
 "metadata": {
  "kernelspec": {
   "display_name": "Python 3 (ipykernel)",
   "language": "python",
   "name": "python3"
  },
  "language_info": {
   "codemirror_mode": {
    "name": "ipython",
    "version": 3
   },
   "file_extension": ".py",
   "mimetype": "text/x-python",
   "name": "python",
   "nbconvert_exporter": "python",
   "pygments_lexer": "ipython3",
   "version": "3.11.5"
  }
 },
 "nbformat": 4,
 "nbformat_minor": 5
}
